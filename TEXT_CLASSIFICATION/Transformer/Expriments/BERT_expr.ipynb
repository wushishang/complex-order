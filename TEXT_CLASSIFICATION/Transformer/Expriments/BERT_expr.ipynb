{
 "cells": [
  {
   "cell_type": "code",
   "execution_count": 1,
   "metadata": {},
   "outputs": [
    {
     "name": "stdout",
     "output_type": "stream",
     "text": [
      "/scratch-data/wu1396/condaenv/py37/bin/python\r\n"
     ]
    }
   ],
   "source": [
    "! which python"
   ]
  },
  {
   "cell_type": "code",
   "execution_count": 2,
   "metadata": {},
   "outputs": [],
   "source": [
    "import torch"
   ]
  },
  {
   "cell_type": "code",
   "execution_count": 3,
   "metadata": {},
   "outputs": [
    {
     "name": "stdout",
     "output_type": "stream",
     "text": [
      "/scratch-data/wu1396/complex-order_oct_16_2021/TEXT_CLASSIFICATION/Experiment_BERT\r\n"
     ]
    }
   ],
   "source": [
    "!pwd"
   ]
  },
  {
   "cell_type": "code",
   "execution_count": 4,
   "metadata": {},
   "outputs": [
    {
     "name": "stdout",
     "output_type": "stream",
     "text": [
      "Wed Oct 20 14:57:50 2021       \r\n",
      "+-----------------------------------------------------------------------------+\r\n",
      "| NVIDIA-SMI 460.39       Driver Version: 460.39       CUDA Version: 11.2     |\r\n",
      "|-------------------------------+----------------------+----------------------+\r\n",
      "| GPU  Name        Persistence-M| Bus-Id        Disp.A | Volatile Uncorr. ECC |\r\n",
      "| Fan  Temp  Perf  Pwr:Usage/Cap|         Memory-Usage | GPU-Util  Compute M. |\r\n",
      "|                               |                      |               MIG M. |\r\n",
      "|===============================+======================+======================|\r\n",
      "|   0  GeForce GTX 108...  On   | 00000000:18:00.0 Off |                  N/A |\r\n",
      "| 25%   25C    P8     8W / 250W |      1MiB / 11178MiB |      0%      Default |\r\n",
      "|                               |                      |                  N/A |\r\n",
      "+-------------------------------+----------------------+----------------------+\r\n",
      "                                                                               \r\n",
      "+-----------------------------------------------------------------------------+\r\n",
      "| Processes:                                                                  |\r\n",
      "|  GPU   GI   CI        PID   Type   Process name                  GPU Memory |\r\n",
      "|        ID   ID                                                   Usage      |\r\n",
      "|=============================================================================|\r\n",
      "|  No running processes found                                                 |\r\n",
      "+-----------------------------------------------------------------------------+\r\n"
     ]
    }
   ],
   "source": [
    "!nvidia-smi"
   ]
  },
  {
   "cell_type": "code",
   "execution_count": 5,
   "metadata": {},
   "outputs": [],
   "source": [
    "# from transformers import pipeline\n",
    "from transformers import AutoTokenizer, AutoModelForSequenceClassification"
   ]
  },
  {
   "cell_type": "code",
   "execution_count": 205,
   "metadata": {},
   "outputs": [],
   "source": [
    "# model_name = \"bhadresh-savani/distilbert-base-uncased-emotion\"\n",
    "# model_name = \"distilbert-base-uncased-finetuned-sst-2-english\"\n",
    "# model_name = \"aychang/distilbert-base-cased-trec-coarse\"\n",
    "\n",
    "# model_name = \"textattack/bert-base-uncased-SST-2\"\n",
    "# model_name = \"aychang/bert-base-cased-trec-coarse\"\n",
    "# model_name = \"textattack/bert-base-uncased-ag-news\"\n",
    "# model_name = \"bhadresh-savani/bert-base-uncased-emotion\"\n",
    "\n",
    "# model_name = \"textattack/roberta-base-SST-2\"\n",
    "model_name = \"bhadresh-savani/roberta-base-emotion\""
   ]
  },
  {
   "cell_type": "code",
   "execution_count": 206,
   "metadata": {},
   "outputs": [
    {
     "data": {
      "application/vnd.jupyter.widget-view+json": {
       "model_id": "8f13233bb7f94e73a328700204c9bc3a",
       "version_major": 2,
       "version_minor": 0
      },
      "text/plain": [
       "Downloading:   0%|          | 0.00/983 [00:00<?, ?B/s]"
      ]
     },
     "metadata": {},
     "output_type": "display_data"
    },
    {
     "data": {
      "application/vnd.jupyter.widget-view+json": {
       "model_id": "7a1072abda0c4d26bd73823e5fd2ab71",
       "version_major": 2,
       "version_minor": 0
      },
      "text/plain": [
       "Downloading:   0%|          | 0.00/476M [00:00<?, ?B/s]"
      ]
     },
     "metadata": {},
     "output_type": "display_data"
    },
    {
     "data": {
      "application/vnd.jupyter.widget-view+json": {
       "model_id": "f678e021f94948f8aeefdc34a66d32bf",
       "version_major": 2,
       "version_minor": 0
      },
      "text/plain": [
       "Downloading:   0%|          | 0.00/288 [00:00<?, ?B/s]"
      ]
     },
     "metadata": {},
     "output_type": "display_data"
    },
    {
     "data": {
      "application/vnd.jupyter.widget-view+json": {
       "model_id": "87b36558a82b4dbf82cf504a2189585c",
       "version_major": 2,
       "version_minor": 0
      },
      "text/plain": [
       "Downloading:   0%|          | 0.00/983 [00:00<?, ?B/s]"
      ]
     },
     "metadata": {},
     "output_type": "display_data"
    },
    {
     "data": {
      "application/vnd.jupyter.widget-view+json": {
       "model_id": "a225041516b04ce7a5c1cf6463982860",
       "version_major": 2,
       "version_minor": 0
      },
      "text/plain": [
       "Downloading:   0%|          | 0.00/780k [00:00<?, ?B/s]"
      ]
     },
     "metadata": {},
     "output_type": "display_data"
    },
    {
     "data": {
      "application/vnd.jupyter.widget-view+json": {
       "model_id": "8b516dd193334661af3e080458e9e496",
       "version_major": 2,
       "version_minor": 0
      },
      "text/plain": [
       "Downloading:   0%|          | 0.00/446k [00:00<?, ?B/s]"
      ]
     },
     "metadata": {},
     "output_type": "display_data"
    },
    {
     "data": {
      "application/vnd.jupyter.widget-view+json": {
       "model_id": "f1f21f521e774716bd98a0ecdb4c1eef",
       "version_major": 2,
       "version_minor": 0
      },
      "text/plain": [
       "Downloading:   0%|          | 0.00/1.29M [00:00<?, ?B/s]"
      ]
     },
     "metadata": {},
     "output_type": "display_data"
    },
    {
     "data": {
      "application/vnd.jupyter.widget-view+json": {
       "model_id": "4ccfa3e7f000485f9d8e8d16fb6eba2e",
       "version_major": 2,
       "version_minor": 0
      },
      "text/plain": [
       "Downloading:   0%|          | 0.00/239 [00:00<?, ?B/s]"
      ]
     },
     "metadata": {},
     "output_type": "display_data"
    }
   ],
   "source": [
    "pt_model = AutoModelForSequenceClassification.from_pretrained(model_name, cache_dir=\"./cache/model\").to(\"cuda:0\")\n",
    "tokenizer = AutoTokenizer.from_pretrained(model_name)"
   ]
  },
  {
   "cell_type": "code",
   "execution_count": 158,
   "metadata": {},
   "outputs": [
    {
     "data": {
      "application/vnd.jupyter.widget-view+json": {
       "model_id": "e64eb30e53ea41ef936140904602f3c1",
       "version_major": 2,
       "version_minor": 0
      },
      "text/plain": [
       "Downloading:   0%|          | 0.00/1.66k [00:00<?, ?B/s]"
      ]
     },
     "metadata": {},
     "output_type": "display_data"
    },
    {
     "data": {
      "application/vnd.jupyter.widget-view+json": {
       "model_id": "087ba8307fd14ca0aed41742dec3ae44",
       "version_major": 2,
       "version_minor": 0
      },
      "text/plain": [
       "Downloading:   0%|          | 0.00/1.61k [00:00<?, ?B/s]"
      ]
     },
     "metadata": {},
     "output_type": "display_data"
    },
    {
     "name": "stderr",
     "output_type": "stream",
     "text": [
      "Using custom data configuration default\n"
     ]
    },
    {
     "name": "stdout",
     "output_type": "stream",
     "text": [
      "Downloading and preparing dataset emotion/default (download: 1.97 MiB, generated: 2.07 MiB, post-processed: Unknown size, total: 4.05 MiB) to ./cache/emotion/default/0.0.0/348f63ca8e27b3713b6c04d723efe6d824a56fb3d1449794716c0f0296072705...\n"
     ]
    },
    {
     "data": {
      "application/vnd.jupyter.widget-view+json": {
       "model_id": "b1b7c6ab9b3e4966a09ee60221e2d2c1",
       "version_major": 2,
       "version_minor": 0
      },
      "text/plain": [
       "Downloading:   0%|          | 0.00/1.66M [00:00<?, ?B/s]"
      ]
     },
     "metadata": {},
     "output_type": "display_data"
    },
    {
     "data": {
      "application/vnd.jupyter.widget-view+json": {
       "model_id": "8ca65405b89449a3b17b79321a4127f1",
       "version_major": 2,
       "version_minor": 0
      },
      "text/plain": [
       "Downloading:   0%|          | 0.00/204k [00:00<?, ?B/s]"
      ]
     },
     "metadata": {},
     "output_type": "display_data"
    },
    {
     "data": {
      "application/vnd.jupyter.widget-view+json": {
       "model_id": "2de240951929471da67971cc042b6db5",
       "version_major": 2,
       "version_minor": 0
      },
      "text/plain": [
       "Downloading:   0%|          | 0.00/207k [00:00<?, ?B/s]"
      ]
     },
     "metadata": {},
     "output_type": "display_data"
    },
    {
     "data": {
      "application/vnd.jupyter.widget-view+json": {
       "model_id": "",
       "version_major": 2,
       "version_minor": 0
      },
      "text/plain": [
       "0 examples [00:00, ? examples/s]"
      ]
     },
     "metadata": {},
     "output_type": "display_data"
    },
    {
     "data": {
      "application/vnd.jupyter.widget-view+json": {
       "model_id": "",
       "version_major": 2,
       "version_minor": 0
      },
      "text/plain": [
       "0 examples [00:00, ? examples/s]"
      ]
     },
     "metadata": {},
     "output_type": "display_data"
    },
    {
     "data": {
      "application/vnd.jupyter.widget-view+json": {
       "model_id": "",
       "version_major": 2,
       "version_minor": 0
      },
      "text/plain": [
       "0 examples [00:00, ? examples/s]"
      ]
     },
     "metadata": {},
     "output_type": "display_data"
    },
    {
     "name": "stdout",
     "output_type": "stream",
     "text": [
      "Dataset emotion downloaded and prepared to ./cache/emotion/default/0.0.0/348f63ca8e27b3713b6c04d723efe6d824a56fb3d1449794716c0f0296072705. Subsequent calls will reuse this data.\n"
     ]
    }
   ],
   "source": [
    "from datasets import load_dataset\n",
    "# dataset = load_dataset('trec', split='test', cache_dir=\"./cache\") #\n",
    "# dataset = load_dataset('glue', 'sst2', split='validation', cache_dir=\"./cache\") #\n",
    "# dataset = load_dataset('ag_news', split='test', cache_dir=\"./cache\") #\n",
    "dataset = load_dataset('emotion', split='test', cache_dir=\"./cache\") #"
   ]
  },
  {
   "cell_type": "code",
   "execution_count": 110,
   "metadata": {},
   "outputs": [
    {
     "data": {
      "application/vnd.jupyter.widget-view+json": {
       "model_id": "e6dd0d4df85e45628d01794a9e568e64",
       "version_major": 2,
       "version_minor": 0
      },
      "text/plain": [
       "Downloading:   0%|          | 0.00/1.83k [00:00<?, ?B/s]"
      ]
     },
     "metadata": {},
     "output_type": "display_data"
    },
    {
     "data": {
      "application/vnd.jupyter.widget-view+json": {
       "model_id": "bb27606920254b7c8403043bdf4e461d",
       "version_major": 2,
       "version_minor": 0
      },
      "text/plain": [
       "Downloading:   0%|          | 0.00/1.28k [00:00<?, ?B/s]"
      ]
     },
     "metadata": {},
     "output_type": "display_data"
    }
   ],
   "source": [
    "# from datasets import get_dataset_config_names\n",
    "# configs = get_dataset_config_names(\"ag_news\")"
   ]
  },
  {
   "cell_type": "code",
   "execution_count": 119,
   "metadata": {},
   "outputs": [],
   "source": [
    "# dataset.info"
   ]
  },
  {
   "cell_type": "code",
   "execution_count": 120,
   "metadata": {},
   "outputs": [
    {
     "ename": "AttributeError",
     "evalue": "'DatasetDict' object has no attribute 'split'",
     "output_type": "error",
     "traceback": [
      "\u001b[0;31m---------------------------------------------------------------------------\u001b[0m",
      "\u001b[0;31mAttributeError\u001b[0m                            Traceback (most recent call last)",
      "\u001b[0;32m/tmp/ipykernel_9081/34129775.py\u001b[0m in \u001b[0;36m<module>\u001b[0;34m\u001b[0m\n\u001b[0;32m----> 1\u001b[0;31m \u001b[0mdataset\u001b[0m\u001b[0;34m.\u001b[0m\u001b[0msplit\u001b[0m\u001b[0;34m,\u001b[0m \u001b[0mdataset\u001b[0m\u001b[0;34m.\u001b[0m\u001b[0mdescription\u001b[0m\u001b[0;34m,\u001b[0m \u001b[0mdataset\u001b[0m\u001b[0;34m.\u001b[0m\u001b[0mcitation\u001b[0m\u001b[0;34m,\u001b[0m \u001b[0mdataset\u001b[0m\u001b[0;34m.\u001b[0m\u001b[0mhomepage\u001b[0m\u001b[0;34m\u001b[0m\u001b[0;34m\u001b[0m\u001b[0m\n\u001b[0m",
      "\u001b[0;31mAttributeError\u001b[0m: 'DatasetDict' object has no attribute 'split'"
     ]
    }
   ],
   "source": [
    "# dataset.split, dataset.description, dataset.citation, dataset.homepage"
   ]
  },
  {
   "cell_type": "code",
   "execution_count": 159,
   "metadata": {},
   "outputs": [
    {
     "data": {
      "text/plain": [
       "({'label': 0,\n",
       "  'text': 'im feeling rather rotten so im not very ambitious right now'},\n",
       " {'label': 0, 'text': 'im updating my blog because i feel shitty'},\n",
       " {'label': 0,\n",
       "  'text': 'i never make her separate from me because i don t ever want her to feel like i m ashamed with her'})"
      ]
     },
     "execution_count": 159,
     "metadata": {},
     "output_type": "execute_result"
    }
   ],
   "source": [
    "# dataset[0], dataset[1], dataset[2]"
   ]
  },
  {
   "cell_type": "code",
   "execution_count": 10,
   "metadata": {},
   "outputs": [],
   "source": [
    "# dataset.shape, dataset.num_columns, dataset.num_rows, len(dataset)"
   ]
  },
  {
   "cell_type": "code",
   "execution_count": 160,
   "metadata": {},
   "outputs": [
    {
     "data": {
      "text/plain": [
       "['text', 'label']"
      ]
     },
     "execution_count": 160,
     "metadata": {},
     "output_type": "execute_result"
    }
   ],
   "source": [
    "dataset.column_names"
   ]
  },
  {
   "cell_type": "code",
   "execution_count": 15,
   "metadata": {},
   "outputs": [],
   "source": [
    "# dataset.features"
   ]
  },
  {
   "cell_type": "code",
   "execution_count": 15,
   "metadata": {},
   "outputs": [],
   "source": [
    "# dataset.features['label'].num_classes, dataset.features['label'].names"
   ]
  },
  {
   "cell_type": "code",
   "execution_count": 16,
   "metadata": {},
   "outputs": [],
   "source": [
    "# dataset[:3], dataset[[1, 3, 5]]"
   ]
  },
  {
   "cell_type": "code",
   "execution_count": 12,
   "metadata": {},
   "outputs": [],
   "source": [
    "# encoded_dataset = dataset.map(lambda examples: tokenizer(examples['text'], truncation=True, padding='max_length'), batched=True)\n",
    "# encoded_dataset = encoded_dataset.rename_column('label-coarse','labels')\n",
    "# encoded_dataset.column_names\n",
    "# encoded_dataset"
   ]
  },
  {
   "cell_type": "code",
   "execution_count": 13,
   "metadata": {},
   "outputs": [],
   "source": [
    "# set(list(encoded_dataset['labels']))"
   ]
  },
  {
   "cell_type": "code",
   "execution_count": 162,
   "metadata": {},
   "outputs": [],
   "source": [
    "from datasets import load_metric\n",
    "metric = load_metric('accuracy')"
   ]
  },
  {
   "cell_type": "code",
   "execution_count": 15,
   "metadata": {},
   "outputs": [],
   "source": [
    "# print(metric.inputs_description)"
   ]
  },
  {
   "cell_type": "code",
   "execution_count": 138,
   "metadata": {},
   "outputs": [],
   "source": [
    "from tqdm import tqdm\n",
    "import random \n",
    "import os\n",
    "import time\n",
    "import numpy as np\n",
    "from functools import partial"
   ]
  },
  {
   "cell_type": "code",
   "execution_count": 128,
   "metadata": {},
   "outputs": [],
   "source": [
    "def assign_GPU(Tokenizer_output):\n",
    "\n",
    "    tokens_tensor = Tokenizer_output['input_ids'].to('cuda:0')\n",
    "    labels = Tokenizer_output['labels'].to('cuda:0')\n",
    "    attention_mask = Tokenizer_output['attention_mask'].to('cuda:0')\n",
    "\n",
    "    output = {'input_ids' : tokens_tensor, \n",
    "              'labels' : labels, \n",
    "              'attention_mask' : attention_mask}\n",
    "\n",
    "    return output"
   ]
  },
  {
   "cell_type": "code",
   "execution_count": 129,
   "metadata": {},
   "outputs": [],
   "source": [
    "from operator import itemgetter\n",
    "\n",
    "def add_prefix(example):\n",
    "    index = torch.cat([torch.randperm(sum(example['attention_mask'])), torch.arange(sum(example['attention_mask']), len(example['input_ids']))])\n",
    "    example['input_ids'] = list(itemgetter(*index.tolist())(example['input_ids']))\n",
    "    return example"
   ]
  },
  {
   "cell_type": "code",
   "execution_count": 19,
   "metadata": {},
   "outputs": [],
   "source": [
    "# encoded_dataset = dataset.map(lambda examples: tokenizer(examples['text'], truncation=True, padding='max_length'), batched=True)\n",
    "# encoded_dataset = encoded_dataset.rename_column('label-coarse','labels')\n",
    "# encoded_dataset.column_names\n",
    "# # encoded_dataset[0]\n",
    "# encoded_dataset = encoded_dataset.map(add_prefix, load_from_cache_file=False)\n",
    "# encoded_dataset[0]['input_ids'][:15]"
   ]
  },
  {
   "cell_type": "code",
   "execution_count": 20,
   "metadata": {},
   "outputs": [],
   "source": [
    "# encoded_dataset[0]['input_ids'][:15]"
   ]
  },
  {
   "cell_type": "code",
   "execution_count": 189,
   "metadata": {},
   "outputs": [],
   "source": [
    "def swap_random(example, num_scramble=7):\n",
    "    idx = range(sum(example['attention_mask']))\n",
    "    for _i in range(num_scramble):\n",
    "        i1, i2 = random.sample(idx, 2)\n",
    "        example['input_ids'][i1], example['input_ids'][i2] = example['input_ids'][i2], example['input_ids'][i1]\n",
    "    return example\n",
    "    "
   ]
  },
  {
   "cell_type": "code",
   "execution_count": 190,
   "metadata": {},
   "outputs": [],
   "source": [
    "def swap_random_neighbors(example, num_scramble=7):\n",
    "    idx = range(sum(example['attention_mask']))\n",
    "    for _i in range(num_scramble):\n",
    "        i1 = random.sample(idx, 1)[0]\n",
    "        i2 = (i1+1)%len(idx)\n",
    "        example['input_ids'][i1], example['input_ids'][i2] = example['input_ids'][i2], example['input_ids'][i1]\n",
    "    return example\n",
    "    "
   ]
  },
  {
   "cell_type": "code",
   "execution_count": 191,
   "metadata": {},
   "outputs": [],
   "source": [
    "def set_seed(seed=int(time.time())):\n",
    "    random.seed(seed)\n",
    "    os.environ['PYTHONHASHSEED'] = str(seed)\n",
    "    np.random.seed(seed)\n",
    "    torch.manual_seed(seed)\n",
    "    torch.cuda.manual_seed(seed)\n",
    "    \n",
    "set_seed()"
   ]
  },
  {
   "cell_type": "code",
   "execution_count": 192,
   "metadata": {},
   "outputs": [],
   "source": [
    "def process_data(num_scramble, shuffle_type=\"none\"):\n",
    "    encoded_dataset = dataset.map(lambda examples: tokenizer(examples['text'], truncation=True, padding='max_length'), batched=True)\n",
    "    encoded_dataset = encoded_dataset.rename_column('label','labels')\n",
    "#     print(encoded_dataset.column_names)\n",
    "    # encoded_dataset[0]\n",
    "\n",
    "    if shuffle_type == \"all\":\n",
    "        encoded_dataset = encoded_dataset.map(add_prefix, load_from_cache_file=False)\n",
    "    elif shuffle_type == \"any\":\n",
    "        encoded_dataset = encoded_dataset.map(partial(swap_random, num_scramble=num_scramble), load_from_cache_file=False)\n",
    "    elif shuffle_type == \"neighbors\":\n",
    "        encoded_dataset = encoded_dataset.map(partial(swap_random_neighbors, num_scramble=num_scramble), load_from_cache_file=False)\n",
    "\n",
    "    print(encoded_dataset[0]['input_ids'][:15])\n",
    "\n",
    "\n",
    "\n",
    "    encoded_dataset.set_format(type='torch', columns=['input_ids', 'attention_mask', 'labels'])\n",
    "#     encoded_dataset = assign_GPU(encoded_dataset)\n",
    "    return torch.utils.data.DataLoader(encoded_dataset, batch_size=32)"
   ]
  },
  {
   "cell_type": "code",
   "execution_count": 164,
   "metadata": {},
   "outputs": [],
   "source": [
    "def eval_test(dataloader):\n",
    "    pt_model.eval()\n",
    "    for batch in tqdm(dataloader):\n",
    "        batch = {k: v.to(\"cuda:0\") for k, v in batch.items()}\n",
    "        with torch.no_grad():\n",
    "            outputs = pt_model(**batch)\n",
    "\n",
    "        logits = outputs.logits\n",
    "#         print(logits[:5])\n",
    "        predictions = torch.argmax(logits, dim=-1)\n",
    "    #     print(predictions.shape)\n",
    "    #     print(batch[\"labels\"].shape)\n",
    "        metric.add_batch(predictions=predictions, references=batch[\"labels\"])\n",
    "#         print(logits[:5])\n",
    "\n",
    "    res = metric.compute()\n",
    "    print(res)\n",
    "    return res"
   ]
  },
  {
   "cell_type": "code",
   "execution_count": 165,
   "metadata": {},
   "outputs": [
    {
     "name": "stdout",
     "output_type": "stream",
     "text": [
      "Parameter containing:\n",
      "tensor([[-0.01665, -0.06660, -0.01633,  ..., -0.01999, -0.05139, -0.02635],\n",
      "        [-0.01320, -0.06732, -0.01605,  ..., -0.02266, -0.05536, -0.02600],\n",
      "        [-0.01759, -0.07093, -0.01443,  ..., -0.02457, -0.05955, -0.02318],\n",
      "        ...,\n",
      "        [-0.02310, -0.05877, -0.01049,  ..., -0.01945, -0.02615, -0.02118],\n",
      "        [-0.04901, -0.05614, -0.00465,  ..., -0.01065, -0.01797, -0.02187],\n",
      "        [-0.00646, -0.09147, -0.00255,  ..., -0.01505, -0.05039,  0.04597]],\n",
      "       device='cuda:0', requires_grad=True)\n"
     ]
    }
   ],
   "source": [
    "print(pt_model.distilbert.embeddings.word_embeddings.weight)  #.embeddings.word_embeddings.weight"
   ]
  },
  {
   "cell_type": "code",
   "execution_count": 212,
   "metadata": {},
   "outputs": [
    {
     "name": "stderr",
     "output_type": "stream",
     "text": [
      "Loading cached processed dataset at ./cache/emotion/default/0.0.0/348f63ca8e27b3713b6c04d723efe6d824a56fb3d1449794716c0f0296072705/cache-3c03f8e49c2bba8c.arrow\n"
     ]
    },
    {
     "data": {
      "application/vnd.jupyter.widget-view+json": {
       "model_id": "197426f6820943b5b7922061927ca58b",
       "version_major": 2,
       "version_minor": 0
      },
      "text/plain": [
       "  0%|          | 0/2000 [00:00<?, ?ex/s]"
      ]
     },
     "metadata": {},
     "output_type": "display_data"
    },
    {
     "name": "stdout",
     "output_type": "stream",
     "text": [
      "[0, 757, 2157, 4356, 34485, 98, 1195, 45, 182, 8263, 235, 122, 2, 1, 1]\n"
     ]
    },
    {
     "name": "stderr",
     "output_type": "stream",
     "text": [
      "100%|██████████| 63/63 [00:33<00:00,  1.87it/s]\n",
      "Loading cached processed dataset at ./cache/emotion/default/0.0.0/348f63ca8e27b3713b6c04d723efe6d824a56fb3d1449794716c0f0296072705/cache-3c03f8e49c2bba8c.arrow\n"
     ]
    },
    {
     "name": "stdout",
     "output_type": "stream",
     "text": [
      "{'accuracy': 0.898}\n"
     ]
    },
    {
     "data": {
      "application/vnd.jupyter.widget-view+json": {
       "model_id": "e6285317f2544c8eb2b4f2de1f2222d5",
       "version_major": 2,
       "version_minor": 0
      },
      "text/plain": [
       "  0%|          | 0/2000 [00:00<?, ?ex/s]"
      ]
     },
     "metadata": {},
     "output_type": "display_data"
    },
    {
     "name": "stdout",
     "output_type": "stream",
     "text": [
      "[0, 757, 2157, 45, 34485, 98, 4356, 1195, 182, 8263, 235, 122, 2, 1, 1]\n"
     ]
    },
    {
     "name": "stderr",
     "output_type": "stream",
     "text": [
      "100%|██████████| 63/63 [00:34<00:00,  1.80it/s]\n",
      "Loading cached processed dataset at ./cache/emotion/default/0.0.0/348f63ca8e27b3713b6c04d723efe6d824a56fb3d1449794716c0f0296072705/cache-3c03f8e49c2bba8c.arrow\n"
     ]
    },
    {
     "name": "stdout",
     "output_type": "stream",
     "text": [
      "{'accuracy': 0.9025}\n"
     ]
    },
    {
     "data": {
      "application/vnd.jupyter.widget-view+json": {
       "model_id": "ac81745c43ff4e21b526a1bfce29f24a",
       "version_major": 2,
       "version_minor": 0
      },
      "text/plain": [
       "  0%|          | 0/2000 [00:00<?, ?ex/s]"
      ]
     },
     "metadata": {},
     "output_type": "display_data"
    },
    {
     "name": "stdout",
     "output_type": "stream",
     "text": [
      "[0, 757, 2, 1195, 34485, 98, 4356, 45, 182, 8263, 235, 122, 2157, 1, 1]\n"
     ]
    },
    {
     "name": "stderr",
     "output_type": "stream",
     "text": [
      "100%|██████████| 63/63 [00:34<00:00,  1.83it/s]\n",
      "Loading cached processed dataset at ./cache/emotion/default/0.0.0/348f63ca8e27b3713b6c04d723efe6d824a56fb3d1449794716c0f0296072705/cache-3c03f8e49c2bba8c.arrow\n"
     ]
    },
    {
     "name": "stdout",
     "output_type": "stream",
     "text": [
      "{'accuracy': 0.909}\n"
     ]
    },
    {
     "data": {
      "application/vnd.jupyter.widget-view+json": {
       "model_id": "e3921dd5a08c4eca97c0a006b5447279",
       "version_major": 2,
       "version_minor": 0
      },
      "text/plain": [
       "  0%|          | 0/2000 [00:00<?, ?ex/s]"
      ]
     },
     "metadata": {},
     "output_type": "display_data"
    },
    {
     "name": "stdout",
     "output_type": "stream",
     "text": [
      "[0, 757, 2157, 1195, 45, 98, 4356, 34485, 182, 8263, 235, 122, 2, 1, 1]\n"
     ]
    },
    {
     "name": "stderr",
     "output_type": "stream",
     "text": [
      "100%|██████████| 63/63 [00:34<00:00,  1.83it/s]\n",
      "Loading cached processed dataset at ./cache/emotion/default/0.0.0/348f63ca8e27b3713b6c04d723efe6d824a56fb3d1449794716c0f0296072705/cache-3c03f8e49c2bba8c.arrow\n"
     ]
    },
    {
     "name": "stdout",
     "output_type": "stream",
     "text": [
      "{'accuracy': 0.8925}\n"
     ]
    },
    {
     "data": {
      "application/vnd.jupyter.widget-view+json": {
       "model_id": "8b3dcdc9ff0c48b991e967851075b664",
       "version_major": 2,
       "version_minor": 0
      },
      "text/plain": [
       "  0%|          | 0/2000 [00:00<?, ?ex/s]"
      ]
     },
     "metadata": {},
     "output_type": "display_data"
    },
    {
     "name": "stdout",
     "output_type": "stream",
     "text": [
      "[0, 757, 2157, 1195, 34485, 98, 4356, 45, 182, 235, 8263, 122, 2, 1, 1]\n"
     ]
    },
    {
     "name": "stderr",
     "output_type": "stream",
     "text": [
      "100%|██████████| 63/63 [00:34<00:00,  1.84it/s]\n",
      "Loading cached processed dataset at ./cache/emotion/default/0.0.0/348f63ca8e27b3713b6c04d723efe6d824a56fb3d1449794716c0f0296072705/cache-3c03f8e49c2bba8c.arrow\n"
     ]
    },
    {
     "name": "stdout",
     "output_type": "stream",
     "text": [
      "{'accuracy': 0.9045}\n"
     ]
    },
    {
     "data": {
      "application/vnd.jupyter.widget-view+json": {
       "model_id": "6d05a497e75a49f7bf53e54e3a10b4ae",
       "version_major": 2,
       "version_minor": 0
      },
      "text/plain": [
       "  0%|          | 0/2000 [00:00<?, ?ex/s]"
      ]
     },
     "metadata": {},
     "output_type": "display_data"
    },
    {
     "name": "stdout",
     "output_type": "stream",
     "text": [
      "[0, 757, 2157, 98, 34485, 8263, 182, 45, 4356, 1195, 235, 122, 2, 1, 1]\n"
     ]
    },
    {
     "name": "stderr",
     "output_type": "stream",
     "text": [
      "100%|██████████| 63/63 [00:34<00:00,  1.81it/s]\n",
      "Loading cached processed dataset at ./cache/emotion/default/0.0.0/348f63ca8e27b3713b6c04d723efe6d824a56fb3d1449794716c0f0296072705/cache-3c03f8e49c2bba8c.arrow\n"
     ]
    },
    {
     "name": "stdout",
     "output_type": "stream",
     "text": [
      "{'accuracy': 0.86}\n"
     ]
    },
    {
     "data": {
      "application/vnd.jupyter.widget-view+json": {
       "model_id": "9f83a06305494b21b7bf0df154f9c7fd",
       "version_major": 2,
       "version_minor": 0
      },
      "text/plain": [
       "  0%|          | 0/2000 [00:00<?, ?ex/s]"
      ]
     },
     "metadata": {},
     "output_type": "display_data"
    },
    {
     "name": "stdout",
     "output_type": "stream",
     "text": [
      "[757, 0, 2157, 45, 122, 98, 4356, 1195, 182, 8263, 235, 34485, 2, 1, 1]\n"
     ]
    },
    {
     "name": "stderr",
     "output_type": "stream",
     "text": [
      "100%|██████████| 63/63 [00:34<00:00,  1.84it/s]\n",
      "Loading cached processed dataset at ./cache/emotion/default/0.0.0/348f63ca8e27b3713b6c04d723efe6d824a56fb3d1449794716c0f0296072705/cache-3c03f8e49c2bba8c.arrow\n"
     ]
    },
    {
     "name": "stdout",
     "output_type": "stream",
     "text": [
      "{'accuracy': 0.8575}\n"
     ]
    },
    {
     "data": {
      "application/vnd.jupyter.widget-view+json": {
       "model_id": "e5664e723271444aa522aef4857104c2",
       "version_major": 2,
       "version_minor": 0
      },
      "text/plain": [
       "  0%|          | 0/2000 [00:00<?, ?ex/s]"
      ]
     },
     "metadata": {},
     "output_type": "display_data"
    },
    {
     "name": "stdout",
     "output_type": "stream",
     "text": [
      "[0, 757, 2157, 1195, 122, 98, 34485, 45, 182, 8263, 4356, 235, 2, 1, 1]\n"
     ]
    },
    {
     "name": "stderr",
     "output_type": "stream",
     "text": [
      "100%|██████████| 63/63 [00:34<00:00,  1.83it/s]\n",
      "Loading cached processed dataset at ./cache/emotion/default/0.0.0/348f63ca8e27b3713b6c04d723efe6d824a56fb3d1449794716c0f0296072705/cache-3c03f8e49c2bba8c.arrow\n"
     ]
    },
    {
     "name": "stdout",
     "output_type": "stream",
     "text": [
      "{'accuracy': 0.8595}\n"
     ]
    },
    {
     "data": {
      "application/vnd.jupyter.widget-view+json": {
       "model_id": "b81bb92d24c349d8aa784e2d5792fee3",
       "version_major": 2,
       "version_minor": 0
      },
      "text/plain": [
       "  0%|          | 0/2000 [00:00<?, ?ex/s]"
      ]
     },
     "metadata": {},
     "output_type": "display_data"
    },
    {
     "name": "stdout",
     "output_type": "stream",
     "text": [
      "[0, 757, 235, 1195, 34485, 182, 4356, 45, 8263, 98, 2157, 122, 2, 1, 1]\n"
     ]
    },
    {
     "name": "stderr",
     "output_type": "stream",
     "text": [
      "100%|██████████| 63/63 [00:34<00:00,  1.83it/s]\n",
      "Loading cached processed dataset at ./cache/emotion/default/0.0.0/348f63ca8e27b3713b6c04d723efe6d824a56fb3d1449794716c0f0296072705/cache-3c03f8e49c2bba8c.arrow\n"
     ]
    },
    {
     "name": "stdout",
     "output_type": "stream",
     "text": [
      "{'accuracy': 0.8525}\n"
     ]
    },
    {
     "data": {
      "application/vnd.jupyter.widget-view+json": {
       "model_id": "f0b3ac0be45840eb9aad46d7f0dad09b",
       "version_major": 2,
       "version_minor": 0
      },
      "text/plain": [
       "  0%|          | 0/2000 [00:00<?, ?ex/s]"
      ]
     },
     "metadata": {},
     "output_type": "display_data"
    },
    {
     "name": "stdout",
     "output_type": "stream",
     "text": [
      "[0, 4356, 2157, 2, 34485, 757, 98, 45, 182, 8263, 235, 122, 1195, 1, 1]\n"
     ]
    },
    {
     "name": "stderr",
     "output_type": "stream",
     "text": [
      "100%|██████████| 63/63 [00:34<00:00,  1.82it/s]\n",
      "Loading cached processed dataset at ./cache/emotion/default/0.0.0/348f63ca8e27b3713b6c04d723efe6d824a56fb3d1449794716c0f0296072705/cache-3c03f8e49c2bba8c.arrow\n"
     ]
    },
    {
     "name": "stdout",
     "output_type": "stream",
     "text": [
      "{'accuracy': 0.854}\n"
     ]
    },
    {
     "data": {
      "application/vnd.jupyter.widget-view+json": {
       "model_id": "17808072513e447a8f15f6b316bbfde0",
       "version_major": 2,
       "version_minor": 0
      },
      "text/plain": [
       "  0%|          | 0/2000 [00:00<?, ?ex/s]"
      ]
     },
     "metadata": {},
     "output_type": "display_data"
    },
    {
     "name": "stdout",
     "output_type": "stream",
     "text": [
      "[235, 4356, 122, 1195, 34485, 757, 98, 45, 2, 8263, 0, 2157, 182, 1, 1]\n"
     ]
    },
    {
     "name": "stderr",
     "output_type": "stream",
     "text": [
      "100%|██████████| 63/63 [00:34<00:00,  1.83it/s]\n",
      "Loading cached processed dataset at ./cache/emotion/default/0.0.0/348f63ca8e27b3713b6c04d723efe6d824a56fb3d1449794716c0f0296072705/cache-3c03f8e49c2bba8c.arrow\n"
     ]
    },
    {
     "name": "stdout",
     "output_type": "stream",
     "text": [
      "{'accuracy': 0.8265}\n"
     ]
    },
    {
     "data": {
      "application/vnd.jupyter.widget-view+json": {
       "model_id": "5061b61a910d4e379c2b7f71f0f24e97",
       "version_major": 2,
       "version_minor": 0
      },
      "text/plain": [
       "  0%|          | 0/2000 [00:00<?, ?ex/s]"
      ]
     },
     "metadata": {},
     "output_type": "display_data"
    },
    {
     "name": "stdout",
     "output_type": "stream",
     "text": [
      "[1195, 757, 2, 235, 122, 98, 4356, 45, 182, 0, 8263, 34485, 2157, 1, 1]\n"
     ]
    },
    {
     "name": "stderr",
     "output_type": "stream",
     "text": [
      "100%|██████████| 63/63 [00:34<00:00,  1.83it/s]\n",
      "Loading cached processed dataset at ./cache/emotion/default/0.0.0/348f63ca8e27b3713b6c04d723efe6d824a56fb3d1449794716c0f0296072705/cache-3c03f8e49c2bba8c.arrow\n"
     ]
    },
    {
     "name": "stdout",
     "output_type": "stream",
     "text": [
      "{'accuracy': 0.8165}\n"
     ]
    },
    {
     "data": {
      "application/vnd.jupyter.widget-view+json": {
       "model_id": "c4acd6763dfd468b98d5fb85a80d1b84",
       "version_major": 2,
       "version_minor": 0
      },
      "text/plain": [
       "  0%|          | 0/2000 [00:00<?, ?ex/s]"
      ]
     },
     "metadata": {},
     "output_type": "display_data"
    },
    {
     "name": "stdout",
     "output_type": "stream",
     "text": [
      "[0, 757, 2157, 1195, 34485, 8263, 4356, 45, 2, 98, 122, 235, 182, 1, 1]\n"
     ]
    },
    {
     "name": "stderr",
     "output_type": "stream",
     "text": [
      "100%|██████████| 63/63 [00:34<00:00,  1.83it/s]\n",
      "Loading cached processed dataset at ./cache/emotion/default/0.0.0/348f63ca8e27b3713b6c04d723efe6d824a56fb3d1449794716c0f0296072705/cache-3c03f8e49c2bba8c.arrow\n"
     ]
    },
    {
     "name": "stdout",
     "output_type": "stream",
     "text": [
      "{'accuracy': 0.825}\n"
     ]
    },
    {
     "data": {
      "application/vnd.jupyter.widget-view+json": {
       "model_id": "92dd903a01a547e1b1adb8ffa7153301",
       "version_major": 2,
       "version_minor": 0
      },
      "text/plain": [
       "  0%|          | 0/2000 [00:00<?, ?ex/s]"
      ]
     },
     "metadata": {},
     "output_type": "display_data"
    },
    {
     "name": "stdout",
     "output_type": "stream",
     "text": [
      "[0, 757, 182, 98, 2, 1195, 4356, 45, 122, 8263, 235, 34485, 2157, 1, 1]\n"
     ]
    },
    {
     "name": "stderr",
     "output_type": "stream",
     "text": [
      "100%|██████████| 63/63 [00:34<00:00,  1.82it/s]\n",
      "Loading cached processed dataset at ./cache/emotion/default/0.0.0/348f63ca8e27b3713b6c04d723efe6d824a56fb3d1449794716c0f0296072705/cache-3c03f8e49c2bba8c.arrow\n"
     ]
    },
    {
     "name": "stdout",
     "output_type": "stream",
     "text": [
      "{'accuracy': 0.8245}\n"
     ]
    },
    {
     "data": {
      "application/vnd.jupyter.widget-view+json": {
       "model_id": "ad7d59c65afa49a78bd7f07d8668ba49",
       "version_major": 2,
       "version_minor": 0
      },
      "text/plain": [
       "  0%|          | 0/2000 [00:00<?, ?ex/s]"
      ]
     },
     "metadata": {},
     "output_type": "display_data"
    },
    {
     "name": "stdout",
     "output_type": "stream",
     "text": [
      "[0, 757, 45, 2157, 8263, 98, 182, 1195, 34485, 4356, 235, 122, 2, 1, 1]\n"
     ]
    },
    {
     "name": "stderr",
     "output_type": "stream",
     "text": [
      "100%|██████████| 63/63 [00:34<00:00,  1.83it/s]\n",
      "Loading cached processed dataset at ./cache/emotion/default/0.0.0/348f63ca8e27b3713b6c04d723efe6d824a56fb3d1449794716c0f0296072705/cache-3c03f8e49c2bba8c.arrow\n"
     ]
    },
    {
     "name": "stdout",
     "output_type": "stream",
     "text": [
      "{'accuracy': 0.8175}\n"
     ]
    },
    {
     "data": {
      "application/vnd.jupyter.widget-view+json": {
       "model_id": "6c46c8b2511c48298afeeb99ddf9b593",
       "version_major": 2,
       "version_minor": 0
      },
      "text/plain": [
       "  0%|          | 0/2000 [00:00<?, ?ex/s]"
      ]
     },
     "metadata": {},
     "output_type": "display_data"
    },
    {
     "name": "stdout",
     "output_type": "stream",
     "text": [
      "[0, 757, 2157, 45, 98, 34485, 4356, 235, 122, 8263, 1195, 2, 182, 1, 1]\n"
     ]
    },
    {
     "name": "stderr",
     "output_type": "stream",
     "text": [
      "100%|██████████| 63/63 [00:34<00:00,  1.82it/s]\n",
      "Loading cached processed dataset at ./cache/emotion/default/0.0.0/348f63ca8e27b3713b6c04d723efe6d824a56fb3d1449794716c0f0296072705/cache-3c03f8e49c2bba8c.arrow\n"
     ]
    },
    {
     "name": "stdout",
     "output_type": "stream",
     "text": [
      "{'accuracy': 0.7985}\n"
     ]
    },
    {
     "data": {
      "application/vnd.jupyter.widget-view+json": {
       "model_id": "83131871cc944f149f64ca62bd0e6309",
       "version_major": 2,
       "version_minor": 0
      },
      "text/plain": [
       "  0%|          | 0/2000 [00:00<?, ?ex/s]"
      ]
     },
     "metadata": {},
     "output_type": "display_data"
    },
    {
     "name": "stdout",
     "output_type": "stream",
     "text": [
      "[45, 757, 122, 1195, 34485, 8263, 4356, 0, 182, 2, 2157, 235, 98, 1, 1]\n"
     ]
    },
    {
     "name": "stderr",
     "output_type": "stream",
     "text": [
      "100%|██████████| 63/63 [00:34<00:00,  1.84it/s]\n",
      "Loading cached processed dataset at ./cache/emotion/default/0.0.0/348f63ca8e27b3713b6c04d723efe6d824a56fb3d1449794716c0f0296072705/cache-3c03f8e49c2bba8c.arrow\n"
     ]
    },
    {
     "name": "stdout",
     "output_type": "stream",
     "text": [
      "{'accuracy': 0.7945}\n"
     ]
    },
    {
     "data": {
      "application/vnd.jupyter.widget-view+json": {
       "model_id": "e9ed3dc87beb496a860dbe4d4d53286f",
       "version_major": 2,
       "version_minor": 0
      },
      "text/plain": [
       "  0%|          | 0/2000 [00:00<?, ?ex/s]"
      ]
     },
     "metadata": {},
     "output_type": "display_data"
    },
    {
     "name": "stdout",
     "output_type": "stream",
     "text": [
      "[45, 182, 34485, 1195, 757, 98, 4356, 0, 2157, 8263, 235, 2, 122, 1, 1]\n"
     ]
    },
    {
     "name": "stderr",
     "output_type": "stream",
     "text": [
      "100%|██████████| 63/63 [00:34<00:00,  1.81it/s]\n",
      "Loading cached processed dataset at ./cache/emotion/default/0.0.0/348f63ca8e27b3713b6c04d723efe6d824a56fb3d1449794716c0f0296072705/cache-3c03f8e49c2bba8c.arrow\n"
     ]
    },
    {
     "name": "stdout",
     "output_type": "stream",
     "text": [
      "{'accuracy': 0.8095}\n"
     ]
    },
    {
     "data": {
      "application/vnd.jupyter.widget-view+json": {
       "model_id": "30a7e516801c47019c223285737701bb",
       "version_major": 2,
       "version_minor": 0
      },
      "text/plain": [
       "  0%|          | 0/2000 [00:00<?, ?ex/s]"
      ]
     },
     "metadata": {},
     "output_type": "display_data"
    },
    {
     "name": "stdout",
     "output_type": "stream",
     "text": [
      "[2, 235, 2157, 1195, 4356, 182, 0, 45, 34485, 8263, 122, 757, 98, 1, 1]\n"
     ]
    },
    {
     "name": "stderr",
     "output_type": "stream",
     "text": [
      "100%|██████████| 63/63 [00:34<00:00,  1.83it/s]\n",
      "Loading cached processed dataset at ./cache/emotion/default/0.0.0/348f63ca8e27b3713b6c04d723efe6d824a56fb3d1449794716c0f0296072705/cache-3c03f8e49c2bba8c.arrow\n"
     ]
    },
    {
     "name": "stdout",
     "output_type": "stream",
     "text": [
      "{'accuracy': 0.794}\n"
     ]
    },
    {
     "data": {
      "application/vnd.jupyter.widget-view+json": {
       "model_id": "15ce48da6e584be1851283d202f37dec",
       "version_major": 2,
       "version_minor": 0
      },
      "text/plain": [
       "  0%|          | 0/2000 [00:00<?, ?ex/s]"
      ]
     },
     "metadata": {},
     "output_type": "display_data"
    },
    {
     "name": "stdout",
     "output_type": "stream",
     "text": [
      "[0, 45, 2, 34485, 8263, 98, 4356, 1195, 182, 2157, 757, 122, 235, 1, 1]\n"
     ]
    },
    {
     "name": "stderr",
     "output_type": "stream",
     "text": [
      "100%|██████████| 63/63 [00:34<00:00,  1.83it/s]\n",
      "Loading cached processed dataset at ./cache/emotion/default/0.0.0/348f63ca8e27b3713b6c04d723efe6d824a56fb3d1449794716c0f0296072705/cache-3c03f8e49c2bba8c.arrow\n"
     ]
    },
    {
     "name": "stdout",
     "output_type": "stream",
     "text": [
      "{'accuracy': 0.802}\n"
     ]
    },
    {
     "data": {
      "application/vnd.jupyter.widget-view+json": {
       "model_id": "264f8128569b4a3f9bf14bdcf801f5bb",
       "version_major": 2,
       "version_minor": 0
      },
      "text/plain": [
       "  0%|          | 0/2000 [00:00<?, ?ex/s]"
      ]
     },
     "metadata": {},
     "output_type": "display_data"
    },
    {
     "name": "stdout",
     "output_type": "stream",
     "text": [
      "[0, 757, 2157, 1195, 34485, 4356, 98, 45, 182, 8263, 235, 122, 2, 1, 1]\n"
     ]
    },
    {
     "name": "stderr",
     "output_type": "stream",
     "text": [
      "100%|██████████| 63/63 [00:34<00:00,  1.82it/s]\n",
      "Loading cached processed dataset at ./cache/emotion/default/0.0.0/348f63ca8e27b3713b6c04d723efe6d824a56fb3d1449794716c0f0296072705/cache-3c03f8e49c2bba8c.arrow\n"
     ]
    },
    {
     "name": "stdout",
     "output_type": "stream",
     "text": [
      "{'accuracy': 0.9275}\n"
     ]
    },
    {
     "data": {
      "application/vnd.jupyter.widget-view+json": {
       "model_id": "70a1b3940cf246f1b8ce21a7c8f75f1c",
       "version_major": 2,
       "version_minor": 0
      },
      "text/plain": [
       "  0%|          | 0/2000 [00:00<?, ?ex/s]"
      ]
     },
     "metadata": {},
     "output_type": "display_data"
    },
    {
     "name": "stdout",
     "output_type": "stream",
     "text": [
      "[0, 757, 2157, 1195, 34485, 98, 4356, 182, 45, 8263, 235, 122, 2, 1, 1]\n"
     ]
    },
    {
     "name": "stderr",
     "output_type": "stream",
     "text": [
      "100%|██████████| 63/63 [00:34<00:00,  1.83it/s]\n",
      "Loading cached processed dataset at ./cache/emotion/default/0.0.0/348f63ca8e27b3713b6c04d723efe6d824a56fb3d1449794716c0f0296072705/cache-3c03f8e49c2bba8c.arrow\n"
     ]
    },
    {
     "name": "stdout",
     "output_type": "stream",
     "text": [
      "{'accuracy': 0.924}\n"
     ]
    },
    {
     "data": {
      "application/vnd.jupyter.widget-view+json": {
       "model_id": "142e050d17364961b1dd865afb7af2e8",
       "version_major": 2,
       "version_minor": 0
      },
      "text/plain": [
       "  0%|          | 0/2000 [00:00<?, ?ex/s]"
      ]
     },
     "metadata": {},
     "output_type": "display_data"
    },
    {
     "name": "stdout",
     "output_type": "stream",
     "text": [
      "[0, 757, 1195, 2157, 34485, 98, 4356, 45, 182, 8263, 235, 122, 2, 1, 1]\n"
     ]
    },
    {
     "name": "stderr",
     "output_type": "stream",
     "text": [
      "100%|██████████| 63/63 [00:34<00:00,  1.81it/s]\n",
      "Loading cached processed dataset at ./cache/emotion/default/0.0.0/348f63ca8e27b3713b6c04d723efe6d824a56fb3d1449794716c0f0296072705/cache-3c03f8e49c2bba8c.arrow\n"
     ]
    },
    {
     "name": "stdout",
     "output_type": "stream",
     "text": [
      "{'accuracy': 0.9275}\n"
     ]
    },
    {
     "data": {
      "application/vnd.jupyter.widget-view+json": {
       "model_id": "2ce5e68891674f41bf1ba767d958984c",
       "version_major": 2,
       "version_minor": 0
      },
      "text/plain": [
       "  0%|          | 0/2000 [00:00<?, ?ex/s]"
      ]
     },
     "metadata": {},
     "output_type": "display_data"
    },
    {
     "name": "stdout",
     "output_type": "stream",
     "text": [
      "[0, 757, 2157, 1195, 34485, 98, 4356, 45, 182, 8263, 122, 235, 2, 1, 1]\n"
     ]
    },
    {
     "name": "stderr",
     "output_type": "stream",
     "text": [
      "100%|██████████| 63/63 [00:34<00:00,  1.82it/s]\n",
      "Loading cached processed dataset at ./cache/emotion/default/0.0.0/348f63ca8e27b3713b6c04d723efe6d824a56fb3d1449794716c0f0296072705/cache-3c03f8e49c2bba8c.arrow\n"
     ]
    },
    {
     "name": "stdout",
     "output_type": "stream",
     "text": [
      "{'accuracy': 0.93}\n"
     ]
    },
    {
     "data": {
      "application/vnd.jupyter.widget-view+json": {
       "model_id": "afac54a9d2d34e4ebaa324b4aeada0c2",
       "version_major": 2,
       "version_minor": 0
      },
      "text/plain": [
       "  0%|          | 0/2000 [00:00<?, ?ex/s]"
      ]
     },
     "metadata": {},
     "output_type": "display_data"
    },
    {
     "name": "stdout",
     "output_type": "stream",
     "text": [
      "[0, 757, 2157, 1195, 98, 34485, 4356, 45, 182, 8263, 235, 122, 2, 1, 1]\n"
     ]
    },
    {
     "name": "stderr",
     "output_type": "stream",
     "text": [
      "100%|██████████| 63/63 [00:34<00:00,  1.83it/s]\n",
      "Loading cached processed dataset at ./cache/emotion/default/0.0.0/348f63ca8e27b3713b6c04d723efe6d824a56fb3d1449794716c0f0296072705/cache-3c03f8e49c2bba8c.arrow\n"
     ]
    },
    {
     "name": "stdout",
     "output_type": "stream",
     "text": [
      "{'accuracy': 0.923}\n"
     ]
    },
    {
     "data": {
      "application/vnd.jupyter.widget-view+json": {
       "model_id": "fb73219f6fea477f8f842379237320c0",
       "version_major": 2,
       "version_minor": 0
      },
      "text/plain": [
       "  0%|          | 0/2000 [00:00<?, ?ex/s]"
      ]
     },
     "metadata": {},
     "output_type": "display_data"
    },
    {
     "name": "stdout",
     "output_type": "stream",
     "text": [
      "[0, 757, 2157, 34485, 1195, 98, 4356, 182, 45, 8263, 235, 2, 122, 1, 1]\n"
     ]
    },
    {
     "name": "stderr",
     "output_type": "stream",
     "text": [
      "100%|██████████| 63/63 [00:34<00:00,  1.80it/s]\n",
      "Loading cached processed dataset at ./cache/emotion/default/0.0.0/348f63ca8e27b3713b6c04d723efe6d824a56fb3d1449794716c0f0296072705/cache-3c03f8e49c2bba8c.arrow\n"
     ]
    },
    {
     "name": "stdout",
     "output_type": "stream",
     "text": [
      "{'accuracy': 0.9165}\n"
     ]
    },
    {
     "data": {
      "application/vnd.jupyter.widget-view+json": {
       "model_id": "0a20ac6d77d14903ab2ef71712d16bf4",
       "version_major": 2,
       "version_minor": 0
      },
      "text/plain": [
       "  0%|          | 0/2000 [00:00<?, ?ex/s]"
      ]
     },
     "metadata": {},
     "output_type": "display_data"
    },
    {
     "name": "stdout",
     "output_type": "stream",
     "text": [
      "[0, 757, 2157, 34485, 1195, 98, 4356, 182, 45, 8263, 122, 235, 2, 1, 1]\n"
     ]
    },
    {
     "name": "stderr",
     "output_type": "stream",
     "text": [
      "100%|██████████| 63/63 [00:34<00:00,  1.83it/s]\n",
      "Loading cached processed dataset at ./cache/emotion/default/0.0.0/348f63ca8e27b3713b6c04d723efe6d824a56fb3d1449794716c0f0296072705/cache-3c03f8e49c2bba8c.arrow\n"
     ]
    },
    {
     "name": "stdout",
     "output_type": "stream",
     "text": [
      "{'accuracy': 0.9185}\n"
     ]
    },
    {
     "data": {
      "application/vnd.jupyter.widget-view+json": {
       "model_id": "88a4d8e39f7343f5be3e011fd7739f96",
       "version_major": 2,
       "version_minor": 0
      },
      "text/plain": [
       "  0%|          | 0/2000 [00:00<?, ?ex/s]"
      ]
     },
     "metadata": {},
     "output_type": "display_data"
    },
    {
     "name": "stdout",
     "output_type": "stream",
     "text": [
      "[757, 2, 2157, 1195, 34485, 98, 4356, 45, 182, 235, 8263, 122, 0, 1, 1]\n"
     ]
    },
    {
     "name": "stderr",
     "output_type": "stream",
     "text": [
      "100%|██████████| 63/63 [00:34<00:00,  1.83it/s]\n",
      "Loading cached processed dataset at ./cache/emotion/default/0.0.0/348f63ca8e27b3713b6c04d723efe6d824a56fb3d1449794716c0f0296072705/cache-3c03f8e49c2bba8c.arrow\n"
     ]
    },
    {
     "name": "stdout",
     "output_type": "stream",
     "text": [
      "{'accuracy': 0.915}\n"
     ]
    },
    {
     "data": {
      "application/vnd.jupyter.widget-view+json": {
       "model_id": "c1ea1706c46f49299b4618c4668ada4e",
       "version_major": 2,
       "version_minor": 0
      },
      "text/plain": [
       "  0%|          | 0/2000 [00:00<?, ?ex/s]"
      ]
     },
     "metadata": {},
     "output_type": "display_data"
    },
    {
     "name": "stdout",
     "output_type": "stream",
     "text": [
      "[0, 2157, 757, 1195, 34485, 4356, 98, 45, 182, 235, 8263, 122, 2, 1, 1]\n"
     ]
    },
    {
     "name": "stderr",
     "output_type": "stream",
     "text": [
      "100%|██████████| 63/63 [00:34<00:00,  1.82it/s]\n",
      "Loading cached processed dataset at ./cache/emotion/default/0.0.0/348f63ca8e27b3713b6c04d723efe6d824a56fb3d1449794716c0f0296072705/cache-3c03f8e49c2bba8c.arrow\n"
     ]
    },
    {
     "name": "stdout",
     "output_type": "stream",
     "text": [
      "{'accuracy': 0.9125}\n"
     ]
    },
    {
     "data": {
      "application/vnd.jupyter.widget-view+json": {
       "model_id": "fc9bd205671a4a9a85966833cfbcffef",
       "version_major": 2,
       "version_minor": 0
      },
      "text/plain": [
       "  0%|          | 0/2000 [00:00<?, ?ex/s]"
      ]
     },
     "metadata": {},
     "output_type": "display_data"
    },
    {
     "name": "stdout",
     "output_type": "stream",
     "text": [
      "[0, 757, 1195, 2157, 34485, 45, 98, 4356, 182, 8263, 235, 122, 2, 1, 1]\n"
     ]
    },
    {
     "name": "stderr",
     "output_type": "stream",
     "text": [
      "100%|██████████| 63/63 [00:34<00:00,  1.82it/s]\n",
      "Loading cached processed dataset at ./cache/emotion/default/0.0.0/348f63ca8e27b3713b6c04d723efe6d824a56fb3d1449794716c0f0296072705/cache-3c03f8e49c2bba8c.arrow\n"
     ]
    },
    {
     "name": "stdout",
     "output_type": "stream",
     "text": [
      "{'accuracy': 0.9185}\n"
     ]
    },
    {
     "data": {
      "application/vnd.jupyter.widget-view+json": {
       "model_id": "b58b7f9946004030888fa72b3d1ffd39",
       "version_major": 2,
       "version_minor": 0
      },
      "text/plain": [
       "  0%|          | 0/2000 [00:00<?, ?ex/s]"
      ]
     },
     "metadata": {},
     "output_type": "display_data"
    },
    {
     "name": "stdout",
     "output_type": "stream",
     "text": [
      "[0, 757, 2157, 1195, 34485, 98, 4356, 45, 182, 8263, 122, 235, 2, 1, 1]\n"
     ]
    },
    {
     "name": "stderr",
     "output_type": "stream",
     "text": [
      "100%|██████████| 63/63 [00:34<00:00,  1.84it/s]\n",
      "Loading cached processed dataset at ./cache/emotion/default/0.0.0/348f63ca8e27b3713b6c04d723efe6d824a56fb3d1449794716c0f0296072705/cache-3c03f8e49c2bba8c.arrow\n"
     ]
    },
    {
     "name": "stdout",
     "output_type": "stream",
     "text": [
      "{'accuracy': 0.9065}\n"
     ]
    },
    {
     "data": {
      "application/vnd.jupyter.widget-view+json": {
       "model_id": "c7e80cd2d4c0409984689af8c042d976",
       "version_major": 2,
       "version_minor": 0
      },
      "text/plain": [
       "  0%|          | 0/2000 [00:00<?, ?ex/s]"
      ]
     },
     "metadata": {},
     "output_type": "display_data"
    },
    {
     "name": "stdout",
     "output_type": "stream",
     "text": [
      "[0, 757, 2157, 1195, 98, 34485, 45, 4356, 8263, 182, 235, 122, 2, 1, 1]\n"
     ]
    },
    {
     "name": "stderr",
     "output_type": "stream",
     "text": [
      "100%|██████████| 63/63 [00:34<00:00,  1.84it/s]\n",
      "Loading cached processed dataset at ./cache/emotion/default/0.0.0/348f63ca8e27b3713b6c04d723efe6d824a56fb3d1449794716c0f0296072705/cache-3c03f8e49c2bba8c.arrow\n"
     ]
    },
    {
     "name": "stdout",
     "output_type": "stream",
     "text": [
      "{'accuracy': 0.901}\n"
     ]
    },
    {
     "data": {
      "application/vnd.jupyter.widget-view+json": {
       "model_id": "696df5331e63475e86b0e5c128cb8815",
       "version_major": 2,
       "version_minor": 0
      },
      "text/plain": [
       "  0%|          | 0/2000 [00:00<?, ?ex/s]"
      ]
     },
     "metadata": {},
     "output_type": "display_data"
    },
    {
     "name": "stdout",
     "output_type": "stream",
     "text": [
      "[2, 2157, 34485, 757, 1195, 98, 4356, 45, 182, 235, 8263, 122, 0, 1, 1]\n"
     ]
    },
    {
     "name": "stderr",
     "output_type": "stream",
     "text": [
      "100%|██████████| 63/63 [00:34<00:00,  1.81it/s]\n",
      "Loading cached processed dataset at ./cache/emotion/default/0.0.0/348f63ca8e27b3713b6c04d723efe6d824a56fb3d1449794716c0f0296072705/cache-3c03f8e49c2bba8c.arrow\n"
     ]
    },
    {
     "name": "stdout",
     "output_type": "stream",
     "text": [
      "{'accuracy': 0.903}\n"
     ]
    },
    {
     "data": {
      "application/vnd.jupyter.widget-view+json": {
       "model_id": "86313c8ddb1a4ac08e1ee73050f00662",
       "version_major": 2,
       "version_minor": 0
      },
      "text/plain": [
       "  0%|          | 0/2000 [00:00<?, ?ex/s]"
      ]
     },
     "metadata": {},
     "output_type": "display_data"
    },
    {
     "name": "stdout",
     "output_type": "stream",
     "text": [
      "[0, 2157, 757, 1195, 98, 34485, 45, 4356, 182, 122, 8263, 235, 2, 1, 1]\n"
     ]
    },
    {
     "name": "stderr",
     "output_type": "stream",
     "text": [
      "100%|██████████| 63/63 [00:34<00:00,  1.83it/s]\n",
      "Loading cached processed dataset at ./cache/emotion/default/0.0.0/348f63ca8e27b3713b6c04d723efe6d824a56fb3d1449794716c0f0296072705/cache-3c03f8e49c2bba8c.arrow\n"
     ]
    },
    {
     "name": "stdout",
     "output_type": "stream",
     "text": [
      "{'accuracy': 0.8965}\n"
     ]
    },
    {
     "data": {
      "application/vnd.jupyter.widget-view+json": {
       "model_id": "49d81f8632084480a8f7a0e9e6be4149",
       "version_major": 2,
       "version_minor": 0
      },
      "text/plain": [
       "  0%|          | 0/2000 [00:00<?, ?ex/s]"
      ]
     },
     "metadata": {},
     "output_type": "display_data"
    },
    {
     "name": "stdout",
     "output_type": "stream",
     "text": [
      "[757, 0, 34485, 2157, 1195, 98, 4356, 45, 182, 235, 122, 8263, 2, 1, 1]\n"
     ]
    },
    {
     "name": "stderr",
     "output_type": "stream",
     "text": [
      "100%|██████████| 63/63 [00:34<00:00,  1.82it/s]\n",
      "Loading cached processed dataset at ./cache/emotion/default/0.0.0/348f63ca8e27b3713b6c04d723efe6d824a56fb3d1449794716c0f0296072705/cache-3c03f8e49c2bba8c.arrow\n"
     ]
    },
    {
     "name": "stdout",
     "output_type": "stream",
     "text": [
      "{'accuracy': 0.9045}\n"
     ]
    },
    {
     "data": {
      "application/vnd.jupyter.widget-view+json": {
       "model_id": "0c0e5f19d0474ae99a279c882b61f69e",
       "version_major": 2,
       "version_minor": 0
      },
      "text/plain": [
       "  0%|          | 0/2000 [00:00<?, ?ex/s]"
      ]
     },
     "metadata": {},
     "output_type": "display_data"
    },
    {
     "name": "stdout",
     "output_type": "stream",
     "text": [
      "[0, 757, 2157, 1195, 34485, 45, 98, 182, 4356, 8263, 235, 122, 2, 1, 1]\n"
     ]
    },
    {
     "name": "stderr",
     "output_type": "stream",
     "text": [
      "100%|██████████| 63/63 [00:34<00:00,  1.82it/s]\n",
      "Loading cached processed dataset at ./cache/emotion/default/0.0.0/348f63ca8e27b3713b6c04d723efe6d824a56fb3d1449794716c0f0296072705/cache-3c03f8e49c2bba8c.arrow\n"
     ]
    },
    {
     "name": "stdout",
     "output_type": "stream",
     "text": [
      "{'accuracy': 0.8955}\n"
     ]
    },
    {
     "data": {
      "application/vnd.jupyter.widget-view+json": {
       "model_id": "38f0e6a52ce94441972951942b2e2e91",
       "version_major": 2,
       "version_minor": 0
      },
      "text/plain": [
       "  0%|          | 0/2000 [00:00<?, ?ex/s]"
      ]
     },
     "metadata": {},
     "output_type": "display_data"
    },
    {
     "name": "stdout",
     "output_type": "stream",
     "text": [
      "[757, 0, 2157, 1195, 98, 34485, 4356, 45, 182, 8263, 122, 235, 2, 1, 1]\n"
     ]
    },
    {
     "name": "stderr",
     "output_type": "stream",
     "text": [
      "100%|██████████| 63/63 [00:34<00:00,  1.82it/s]\n",
      "Loading cached processed dataset at ./cache/emotion/default/0.0.0/348f63ca8e27b3713b6c04d723efe6d824a56fb3d1449794716c0f0296072705/cache-3c03f8e49c2bba8c.arrow\n"
     ]
    },
    {
     "name": "stdout",
     "output_type": "stream",
     "text": [
      "{'accuracy': 0.896}\n"
     ]
    },
    {
     "data": {
      "application/vnd.jupyter.widget-view+json": {
       "model_id": "a75db9b084ee4529805d2e7cf33dbf0c",
       "version_major": 2,
       "version_minor": 0
      },
      "text/plain": [
       "  0%|          | 0/2000 [00:00<?, ?ex/s]"
      ]
     },
     "metadata": {},
     "output_type": "display_data"
    },
    {
     "name": "stdout",
     "output_type": "stream",
     "text": [
      "[757, 0, 2157, 1195, 34485, 182, 98, 4356, 8263, 45, 235, 122, 2, 1, 1]\n"
     ]
    },
    {
     "name": "stderr",
     "output_type": "stream",
     "text": [
      "100%|██████████| 63/63 [00:34<00:00,  1.83it/s]\n",
      "Loading cached processed dataset at ./cache/emotion/default/0.0.0/348f63ca8e27b3713b6c04d723efe6d824a56fb3d1449794716c0f0296072705/cache-3c03f8e49c2bba8c.arrow\n"
     ]
    },
    {
     "name": "stdout",
     "output_type": "stream",
     "text": [
      "{'accuracy': 0.8845}\n"
     ]
    },
    {
     "data": {
      "application/vnd.jupyter.widget-view+json": {
       "model_id": "f9b66031f5ba4a938601b2235facae0a",
       "version_major": 2,
       "version_minor": 0
      },
      "text/plain": [
       "  0%|          | 0/2000 [00:00<?, ?ex/s]"
      ]
     },
     "metadata": {},
     "output_type": "display_data"
    },
    {
     "name": "stdout",
     "output_type": "stream",
     "text": [
      "[0, 757, 1195, 2157, 34485, 98, 8263, 4356, 182, 45, 235, 122, 2, 1, 1]\n"
     ]
    },
    {
     "name": "stderr",
     "output_type": "stream",
     "text": [
      "100%|██████████| 63/63 [00:34<00:00,  1.83it/s]\n",
      "Loading cached processed dataset at ./cache/emotion/default/0.0.0/348f63ca8e27b3713b6c04d723efe6d824a56fb3d1449794716c0f0296072705/cache-3c03f8e49c2bba8c.arrow\n"
     ]
    },
    {
     "name": "stdout",
     "output_type": "stream",
     "text": [
      "{'accuracy': 0.891}\n"
     ]
    },
    {
     "data": {
      "application/vnd.jupyter.widget-view+json": {
       "model_id": "8a284e79bf4c458cb1efb4ddaf6b8832",
       "version_major": 2,
       "version_minor": 0
      },
      "text/plain": [
       "  0%|          | 0/2000 [00:00<?, ?ex/s]"
      ]
     },
     "metadata": {},
     "output_type": "display_data"
    },
    {
     "name": "stdout",
     "output_type": "stream",
     "text": [
      "[2157, 757, 0, 1195, 98, 34485, 4356, 45, 8263, 182, 235, 122, 2, 1, 1]\n"
     ]
    },
    {
     "name": "stderr",
     "output_type": "stream",
     "text": [
      "100%|██████████| 63/63 [00:34<00:00,  1.83it/s]"
     ]
    },
    {
     "name": "stdout",
     "output_type": "stream",
     "text": [
      "{'accuracy': 0.8855}\n"
     ]
    },
    {
     "name": "stderr",
     "output_type": "stream",
     "text": [
      "\n"
     ]
    }
   ],
   "source": [
    "metrics = {}\n",
    "NUM_RUNS = 5\n",
    "NUM_SCRAMBLE = [1, 3, 5, 7]  # \n",
    "SHUFFLE_TYPE = [\"any\", \"neighbors\"]  # \"all\"\n",
    "\n",
    "for _st in SHUFFLE_TYPE:\n",
    "    metrics[_st] = {}\n",
    "    for _ns in NUM_SCRAMBLE:\n",
    "        metrics[_st][_ns] = []\n",
    "        for _j in range(NUM_RUNS):\n",
    "        #     set_seed(_j)\n",
    "            dataloader = process_data(_ns, _st)\n",
    "            res = eval_test(dataloader)\n",
    "            metrics[_st][_ns].append(res)"
   ]
  },
  {
   "cell_type": "code",
   "execution_count": 213,
   "metadata": {},
   "outputs": [
    {
     "name": "stdout",
     "output_type": "stream",
     "text": [
      "any, 1: 0.9012999534606934 (0.006310704164206982)\n",
      "any, 3: 0.85670006275177 (0.0033279138151556253)\n",
      "any, 5: 0.8220000267028809 (0.004636809229850769)\n",
      "any, 7: 0.7996999621391296 (0.006369836162775755)\n",
      "neighbors, 1: 0.9264000058174133 (0.0028592010494321585)\n",
      "neighbors, 3: 0.9161999821662903 (0.002539675682783127)\n",
      "neighbors, 5: 0.9023000001907349 (0.0038177191745489836)\n",
      "neighbors, 7: 0.8904999494552612 (0.005396754946559668)\n"
     ]
    }
   ],
   "source": [
    "torch.set_printoptions(5)\n",
    "\n",
    "for k1, v1 in metrics.items():\n",
    "    for k2, v2 in v1.items():\n",
    "        accs = [acc['accuracy'] for acc in v2]\n",
    "        print(f\"{k1}, {k2}: {torch.mean(torch.tensor(accs))} ({torch.std(torch.tensor(accs))})\")"
   ]
  },
  {
   "cell_type": "code",
   "execution_count": 214,
   "metadata": {},
   "outputs": [
    {
     "data": {
      "text/plain": [
       "[0.8955, 0.896, 0.8845, 0.891, 0.8855]"
      ]
     },
     "execution_count": 214,
     "metadata": {},
     "output_type": "execute_result"
    }
   ],
   "source": [
    "accs"
   ]
  },
  {
   "cell_type": "code",
   "execution_count": null,
   "metadata": {},
   "outputs": [],
   "source": []
  },
  {
   "cell_type": "code",
   "execution_count": null,
   "metadata": {},
   "outputs": [],
   "source": [
    "# DistilBERT, Emotion\n",
    "# Original: 0.927\n",
    "# Sw1: 89.756 (0.415)\n",
    "# Sw3: 84.780 (0.807)\n",
    "# Sw5: 81.990 (0.498)\n",
    "# Sw7: 79.660 (1.021)\n",
    "# Shuffle: 74.320 (0.537)\n",
    "\n",
    "# Sc1: 92.360 (0.198)\n",
    "# Sc3: 90.770 (0.355)\n",
    "# Sc5: 89.370 (0.590)\n",
    "# Sc7: 88.490 (0.507)"
   ]
  },
  {
   "cell_type": "code",
   "execution_count": null,
   "metadata": {},
   "outputs": [],
   "source": [
    "# BERT-base, Emotion\n",
    "# Original: 92.650\n",
    "# Sw1: 89.630 (0.506)\n",
    "# Sw3: 84.860 (0.953)\n",
    "# Sw5: 81.450 (0.939)\n",
    "# Sw7: 79.300 (1.137)\n",
    "# Shuffle: 74.850 (0.663)\n",
    "\n",
    "# Sc1: 92.030 (0.164)\n",
    "# Sc3: 90.620 (0.220)\n",
    "# Sc5: 89.340 (0.763)\n",
    "# Sc7: 88.360 (0.574)"
   ]
  },
  {
   "cell_type": "code",
   "execution_count": null,
   "metadata": {},
   "outputs": [],
   "source": [
    "# RoBERTa, Emotion\n",
    "# Original: 93.050\n",
    "# Sw1: 90.130 (0.631)\n",
    "# Sw3: 85.670 (0.333)\n",
    "# Sw5: 82.200 (0.464)\n",
    "# Sw7: 79.970 (0.637)\n",
    "# Shuffle: 75.760 (0.934)\n",
    "\n",
    "# Sc1: 92.640 (0.286)\n",
    "# Sc3: 91.620 (0.254)\n",
    "# Sc5: 90.230 (0.382)\n",
    "# Sc7: 89.050 (0.540)"
   ]
  },
  {
   "cell_type": "code",
   "execution_count": null,
   "metadata": {},
   "outputs": [],
   "source": [
    "# Bert-base, AG News\n",
    "# Original: 0.951\n",
    "# Sw1: 0.9496579170227051 (0.0013210464967414737)\n",
    "# Sw3: 0.9443947672843933 (0.001222346443682909)\n",
    "# Sw5: 0.9418420791625977 (0.001404880196787417)\n",
    "# Sw7: \n",
    "# Shuffle: 0.9110790491104126 (0.0010080909123644233)\n",
    "\n",
    "# Sc1: \n",
    "# Sc3: \n",
    "# Sc5: \n",
    "# Sc7: "
   ]
  },
  {
   "cell_type": "code",
   "execution_count": null,
   "metadata": {},
   "outputs": [],
   "source": [
    "# Bert-base, TREC\n",
    "# Original: 97.400\n",
    "# S1: 86.800 (1.386)\n",
    "# S3: 76.480 (2.524)\n",
    "# S5: 71.040 (0.932)\n",
    "# S7: 70.200 (1.612)\n",
    "# Shuffle: 67.520 (1.775)\n",
    "\n",
    "# S1: 87.160 (1.526)\n",
    "# S3: 79.600 (1.288)\n",
    "# S5: 76.280 (1.323)\n",
    "# S7: 74.960 (1.062)\n"
   ]
  },
  {
   "cell_type": "code",
   "execution_count": null,
   "metadata": {},
   "outputs": [],
   "source": [
    "# DistilBert, TREC\n",
    "# Original: 97.000\n",
    "# S1: 88.560 (0.684)\n",
    "# S3: 80.000 (1.463)\n",
    "# S5: 76.000 (2.615)\n",
    "# S7: 72.360 (0.740)\n",
    "# Shuffle: 70.640 (2.220)\n",
    "\n",
    "# S1: 90.840 (1.670)\n",
    "# S3: 84.320 (1.006)\n",
    "# S5: 80.640 (0.713)\n",
    "# S7: 78.400 (1.435)\n"
   ]
  },
  {
   "cell_type": "code",
   "execution_count": null,
   "metadata": {},
   "outputs": [],
   "source": [
    "# DistilBert, SST-2\n",
    "# Sramb1: 89.908 (0.421)\n",
    "# Sramb3: 89.564 (0.556)\n",
    "# Sramb5: 88.761 (0.873)\n",
    "# Sramb7: 88.165 (0.718)\n"
   ]
  },
  {
   "cell_type": "code",
   "execution_count": null,
   "metadata": {},
   "outputs": [],
   "source": [
    "# Bert-base, SST-2\n",
    "# Sramb1: 91.720 (0.469)\n",
    "# Sramb3: 89.977 (0.330)\n",
    "# Sramb5: 89.450 (0.506)\n",
    "# Sramb7: 88.073 (0.573)\n"
   ]
  },
  {
   "cell_type": "code",
   "execution_count": null,
   "metadata": {},
   "outputs": [],
   "source": [
    "# RoBERTa, SST-2\n",
    "# Sramb1: 93.624 (0.131)\n",
    "# Sramb3: 92.408 (0.534)\n",
    "# Sramb5: 92.133 (0.192)\n",
    "# Sramb7: 91.858 (0.579)\n"
   ]
  },
  {
   "cell_type": "code",
   "execution_count": 66,
   "metadata": {},
   "outputs": [],
   "source": [
    "# BERT-base, Canonical\n",
    "# 0.9243119266055045\n",
    "# BERT-base, Shuffle\n",
    "# 0.7821100917431193\n",
    "# 0.7809633027522935\n",
    "# 0.7763761467889908\n",
    "# 0.7889908256880734\n",
    "# 0.7821100917431193\n",
    "# 0.78211 (0.00451)\n",
    "\n",
    "# RoBERTa, Canonical\n",
    "# 0.9403669724770642\n",
    "# RoBERTa, Shuffle\n",
    "# 0.8084862385321101\n",
    "# 0.8096330275229358\n",
    "# 0.8096330275229358\n",
    "# 0.8004587155963303\n",
    "# 0.8027522935779816\n",
    "# 0.80619 (0.00429)\n",
    "\n",
    "# DistilBERT, Canonical\n",
    "# 0.9105504587155964\n",
    "\n",
    "# DistilBERT, Shuffle\n",
    "# 0.7844036697247706\n",
    "# 0.7855504587155964\n",
    "# 0.7752293577981652\n",
    "# 0.768348623853211\n",
    "# 0.7534403669724771\n",
    "# 0.77339 (0.01319)"
   ]
  },
  {
   "cell_type": "code",
   "execution_count": 271,
   "metadata": {},
   "outputs": [
    {
     "data": {
      "text/plain": [
       "tensor(0.92225)"
      ]
     },
     "execution_count": 271,
     "metadata": {},
     "output_type": "execute_result"
    }
   ],
   "source": [
    "torch.set_printoptions(5)\n",
    "torch.mean(torch.tensor([0.9197247706422018,0.9220183486238532,.9254587155963303,.9197247706422018,.9243119266055045]))\n"
   ]
  },
  {
   "cell_type": "code",
   "execution_count": null,
   "metadata": {},
   "outputs": [],
   "source": [
    "# DistilBERT, 1-Scramble\n",
    "# 0.8887614678899083\n",
    "# 0.8853211009174312\n",
    "# 0.8944954128440367\n",
    "# 0.8922018348623854\n",
    "# 0.8979357798165137\n",
    "# 0.89174(0.00491)\n",
    " \n",
    "# BERT-base, 1-Scramble\n",
    "# 0.9162844036697247\n",
    "# 0.9025229357798165\n",
    "# 0.9059633027522935\n",
    "# 0.8830275229357798\n",
    "# 0.911697247706422\n",
    "# 0.90390 (0.01281)\n",
    "\n",
    "# RoBERTa, 1-Scramble\n",
    "# 0.9197247706422018\n",
    "# 0.9220183486238532\n",
    "# 0.9254587155963303\n",
    "# 0.9197247706422018\n",
    "# 0.9243119266055045\n",
    "# 0.92225 (0.00262)"
   ]
  },
  {
   "cell_type": "code",
   "execution_count": 277,
   "metadata": {},
   "outputs": [
    {
     "data": {
      "text/plain": [
       "tensor(0.00741)"
      ]
     },
     "execution_count": 277,
     "metadata": {},
     "output_type": "execute_result"
    }
   ],
   "source": [
    "torch.set_printoptions(5)\n",
    "torch.std(torch.tensor([0.8990825688073395,0.9036697247706422,.8864678899082569,.8990825688073395,.8887614678899083]))\n"
   ]
  },
  {
   "cell_type": "code",
   "execution_count": null,
   "metadata": {},
   "outputs": [],
   "source": [
    "# DistilBERT, 3-Scramble\n",
    "# 0.8589449541284404\n",
    "# 0.8555045871559633\n",
    "# 0.8612385321100917\n",
    "# 0.8532110091743119\n",
    "# 0.8589449541284404\n",
    "# 0.85757 (0.00318)\n",
    "\n",
    "# BERT-base, 3-Scramble\n",
    "# 0.8669724770642202\n",
    "# 0.863562091503268\n",
    "# 0.8784403669724771\n",
    "# 0.8818807339449541\n",
    "# 0.8692660550458715\n",
    "# 0.87202 (0.00780)\n",
    "\n",
    "# RoBERTa, 3-Scramble\n",
    "# 0.8990825688073395\n",
    "# 0.9036697247706422\n",
    "# 0.8864678899082569\n",
    "# 0.8990825688073395\n",
    "# 0.8887614678899083\n",
    "# 0.89541 (0.00741)\n"
   ]
  },
  {
   "cell_type": "code",
   "execution_count": 283,
   "metadata": {},
   "outputs": [
    {
     "data": {
      "text/plain": [
       "tensor(0.87815)"
      ]
     },
     "execution_count": 283,
     "metadata": {},
     "output_type": "execute_result"
    }
   ],
   "source": [
    "torch.set_printoptions(5)\n",
    "torch.mean(torch.tensor([0.8941798941798942,0.8715596330275229,.8692660550458715,.8681192660550459,.8876146788990825]))\n"
   ]
  },
  {
   "cell_type": "code",
   "execution_count": null,
   "metadata": {},
   "outputs": [],
   "source": [
    "# DistilBERT, 5-Scramble\n",
    "# 0.8451834862385321\n",
    "# 0.823394495412844\n",
    "# 0.8360091743119266\n",
    "# 0.8440366972477065\n",
    "# 0.8371559633027523\n",
    "# 0.83716 (0.00870)\n",
    "\n",
    "# BERT-base, 5-Scramble\n",
    "# 0.8532110091743119\n",
    "# 0.8440366972477065\n",
    "# 0.8623853211009175\n",
    "# 0.8509174311926605\n",
    "# 0.8486238532110092\n",
    "# 0.85183 (0.00680)\n",
    "\n",
    "# RoBERTa, 5-Scramble\n",
    "# 0.8941798941798942\n",
    "# 0.8715596330275229\n",
    "# 0.8692660550458715\n",
    "# 0.8681192660550459\n",
    "# 0.8876146788990825\n",
    "# 0.87815 (0.01193)\n"
   ]
  }
 ],
 "metadata": {
  "kernelspec": {
   "display_name": "Python (py37)",
   "language": "python",
   "name": "py37"
  },
  "language_info": {
   "codemirror_mode": {
    "name": "ipython",
    "version": 3
   },
   "file_extension": ".py",
   "mimetype": "text/x-python",
   "name": "python",
   "nbconvert_exporter": "python",
   "pygments_lexer": "ipython3",
   "version": "3.7.11"
  }
 },
 "nbformat": 4,
 "nbformat_minor": 4
}
